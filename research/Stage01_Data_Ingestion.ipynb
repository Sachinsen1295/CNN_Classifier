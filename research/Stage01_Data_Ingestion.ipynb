{
 "cells": [
  {
   "cell_type": "markdown",
   "metadata": {},
   "source": [
    "# Data Ingestion"
   ]
  },
  {
   "cell_type": "code",
   "execution_count": 1,
   "metadata": {},
   "outputs": [],
   "source": [
    "import os\n",
    "os.chdir(\"../\")"
   ]
  },
  {
   "cell_type": "markdown",
   "metadata": {},
   "source": [
    "## Entity\n"
   ]
  },
  {
   "cell_type": "code",
   "execution_count": 2,
   "metadata": {},
   "outputs": [],
   "source": [
    "from dataclasses import dataclass\n",
    "from pathlib import Path\n",
    "\n",
    "@dataclass(frozen=True)\n",
    "class DataIngestionConfig:\n",
    "    root_dir: Path\n",
    "    source_url: str\n",
    "    local_file_path: Path\n",
    "    unzip_dir : Path"
   ]
  },
  {
   "cell_type": "code",
   "execution_count": 3,
   "metadata": {},
   "outputs": [
    {
     "data": {
      "text/plain": [
       "'/Users/sachinsen/Documents/DL Project/CNN_Classifier'"
      ]
     },
     "execution_count": 3,
     "metadata": {},
     "output_type": "execute_result"
    }
   ],
   "source": [
    "pwd"
   ]
  },
  {
   "cell_type": "code",
   "execution_count": null,
   "metadata": {},
   "outputs": [],
   "source": [
    "pwd"
   ]
  },
  {
   "cell_type": "markdown",
   "metadata": {},
   "source": [
    "## Utils\n"
   ]
  },
  {
   "cell_type": "code",
   "execution_count": 14,
   "metadata": {},
   "outputs": [],
   "source": [
    "from CNNClassifier.constants import CONFIG_FILE_PATH,PARAM_FILE_PATH\n",
    "from CNNClassifier.utils.utils import read_yaml,create_dir\n"
   ]
  },
  {
   "cell_type": "markdown",
   "metadata": {},
   "source": [
    "## Constant Using functions"
   ]
  },
  {
   "cell_type": "code",
   "execution_count": 7,
   "metadata": {},
   "outputs": [],
   "source": [
    "import os\n",
    "import sys\n",
    "import yaml\n",
    "from src.CNNClassifier import logger\n",
    "import json\n",
    "import joblib\n",
    "from pathlib import Path\n",
    "from typing import Any\n",
    "from ensure import ensure_annotations   # to fix the output in what format to receive \n",
    "from box.exceptions import BoxValueError\n",
    "from box import ConfigBox\n",
    "\n",
    "\n",
    "\n",
    "@ensure_annotations\n",
    "def read_yaml(path_to_yaml : Path) -> ConfigBox:\n",
    "    with open(path_to_yaml, \"rb\") as yaml_file:\n",
    "        content = yaml.safe_load(yaml_file)\n",
    "        return ConfigBox(content)\n",
    "    \n",
    "@ensure_annotations\n",
    "def save_json():\n",
    "    pass\n",
    "\n",
    "@ensure_annotations\n",
    "def load_json():\n",
    "    pass\n",
    "\n",
    "@ensure_annotations\n",
    "def save_mode():\n",
    "    pass\n",
    "\n",
    "@ensure_annotations\n",
    "def load_model():\n",
    "    pass\n",
    "\n",
    "@ensure_annotations\n",
    "def get_size():\n",
    "    pass\n",
    "\n",
    "@ensure_annotations\n",
    "def create_dir(path_to_directory:list, verbose=True):\n",
    "    for path in path_to_directory:\n",
    "        os.makedirs(path, exist_ok=True)\n",
    "        if verbose:\n",
    "            logger.info(f\"Create directory ay : {path}\")\n",
    "    \n",
    "\n",
    "\n",
    "\n"
   ]
  },
  {
   "cell_type": "markdown",
   "metadata": {},
   "source": [
    "## Read Config Yaml\n"
   ]
  },
  {
   "cell_type": "code",
   "execution_count": 37,
   "metadata": {},
   "outputs": [],
   "source": [
    "from CNNClassifier.constants import CONFIG_FILE_PATH,PARAM_FILE_PATH"
   ]
  },
  {
   "cell_type": "markdown",
   "metadata": {},
   "source": [
    "\n",
    "ARTIFACTS_DIR : artifacts\n",
    "\n",
    "DATA_INGESTION:\n",
    "  ROOT_DIR : artifacts/data_ingestion\n",
    "  SOURCE_URL: https://download.microsoft.com/download/3/E/1/3E1C3F21-ECDB-4869-8368-6DEBA77B919F/kagglecatsanddogs_5340.zip\n",
    "  LOCAL_DATA_FILE: artifacts/data_ingestion/data.zip\n",
    "  UNZIP_DIR : artifacts/data_ingestion"
   ]
  },
  {
   "cell_type": "markdown",
   "metadata": {},
   "source": [
    "## Configuration manager"
   ]
  },
  {
   "cell_type": "code",
   "execution_count": 23,
   "metadata": {},
   "outputs": [],
   "source": [
    "class ConfigurationManager:\n",
    "    def __init__(self,config_filepath = CONFIG_FILE_PATH,params_filepath = PARAM_FILE_PATH):\n",
    "                 self.config = read_yaml(config_filepath) # to read Yaml file from COnfig\n",
    "                 self.params = read_yaml(params_filepath)\n",
    "                 create_dir([self.config.ARTIFACTS_DIR])\n",
    "\n",
    "    def get_data_ingestion_config(self) -> DataIngestionConfig:\n",
    "            config = self.config.DATA_INGESTION\n",
    "\n",
    "            create_dir([config.ROOT_DIR])\n",
    "\n",
    "            data_ingestion_config= DataIngestionConfig(\n",
    "                                    root_dir=config.ROOT_DIR,\n",
    "                                    source_url=config.SOURCE_URL,\n",
    "                                    local_file_path=config.LOCAL_DATA_FILE,\n",
    "                                    unzip_dir=config.UNZIP_DIR)\n",
    "            return data_ingestion_config\n"
   ]
  },
  {
   "cell_type": "markdown",
   "metadata": {},
   "source": [
    "## Data Ingestion\n"
   ]
  },
  {
   "cell_type": "code",
   "execution_count": 24,
   "metadata": {},
   "outputs": [],
   "source": [
    "import os\n",
    "import urllib.request as request\n",
    "from zipfile import ZipFile"
   ]
  },
  {
   "cell_type": "code",
   "execution_count": 33,
   "metadata": {},
   "outputs": [],
   "source": [
    "class DataIngestion:\n",
    "    def __init__(self, config:DataIngestionConfig) -> None:\n",
    "        self.config = config\n",
    "\n",
    "    def download_file(self):\n",
    "        if not os.path.exists(self.config.local_file_path):\n",
    "            request.urlretrieve(\n",
    "                url= self.config.source_url,\n",
    "                filename= self.config.local_file_path\n",
    "            )\n",
    "\n",
    "        else:\n",
    "            logger.info(f\"file already exist {self.config.local_file_path}\")\n",
    "\n",
    "\n",
    "    def get_updated_list_file(self,list_of_files):\n",
    "        return [f for f in list_of_files if f.endswith(\".jpg\")]\n",
    "\n",
    "    def preprocess(self,zf,f,working_dir):\n",
    "        target_file_path = os.path.join(working_dir,f)\n",
    "        if not os.path.exists(target_file_path):\n",
    "            zf.extract(f,working_dir)\n",
    "\n",
    "    def unzip_clean(self):\n",
    "        with ZipFile(file = self.config.local_file_path,mode='r') as zf:\n",
    "            list_of_files = zf.namelist()\n",
    "            updated_list_of_file= self.get_updated_list_file(list_of_files=list_of_files)\n",
    "            for f in updated_list_of_file:\n",
    "                self.preprocess(zf,f,self.config.unzip_dir)\n",
    "\n",
    "\n",
    "    \n",
    "\n"
   ]
  },
  {
   "cell_type": "code",
   "execution_count": 34,
   "metadata": {},
   "outputs": [
    {
     "data": {
      "text/plain": [
       "'/Users/sachinsen/Documents/DL Project/CNN_Classifier'"
      ]
     },
     "execution_count": 34,
     "metadata": {},
     "output_type": "execute_result"
    }
   ],
   "source": [
    "pwd"
   ]
  },
  {
   "cell_type": "code",
   "execution_count": 35,
   "metadata": {},
   "outputs": [
    {
     "name": "stdout",
     "output_type": "stream",
     "text": [
      "[2023-11-07 22:31:11,453: INFO: 3146933557]: Date Ingestion started\n",
      "[2023-11-07 22:31:11,458: INFO: utils]: Create directory ay : artifacts\n",
      "[2023-11-07 22:31:11,458: INFO: utils]: Create directory ay : artifacts/data_ingestion\n",
      "[2023-11-07 22:31:11,459: INFO: 2236342710]: file already exist artifacts/data_ingestion/data.zip\n",
      "[2023-11-07 22:31:16,499: INFO: 3146933557]: Data ingestion complete\n"
     ]
    }
   ],
   "source": [
    "from CNNClassifier.logger import logger\n",
    "from CNNClassifier.config.configuration import ConfigurationManager\n",
    "\n",
    "\n",
    "logger.info(f\"Date Ingestion started\")\n",
    "config = ConfigurationManager()\n",
    "\n",
    "data_ingestion_config = config.get_data_ingestion_config()\n",
    "\n",
    "data_ingestion= DataIngestion(config=data_ingestion_config)\n",
    "\n",
    "data_ingestion.download_file()\n",
    "data_ingestion.unzip_clean()\n",
    "\n",
    "logger.info(f\"Data ingestion complete\")\n"
   ]
  },
  {
   "cell_type": "code",
   "execution_count": null,
   "metadata": {},
   "outputs": [],
   "source": []
  },
  {
   "cell_type": "code",
   "execution_count": null,
   "metadata": {},
   "outputs": [],
   "source": []
  }
 ],
 "metadata": {
  "kernelspec": {
   "display_name": "Python 3",
   "language": "python",
   "name": "python3"
  },
  "language_info": {
   "codemirror_mode": {
    "name": "ipython",
    "version": 3
   },
   "file_extension": ".py",
   "mimetype": "text/x-python",
   "name": "python",
   "nbconvert_exporter": "python",
   "pygments_lexer": "ipython3",
   "version": "3.8.18"
  }
 },
 "nbformat": 4,
 "nbformat_minor": 2
}
